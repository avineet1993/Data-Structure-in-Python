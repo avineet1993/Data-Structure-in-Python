{
 "cells": [
  {
   "cell_type": "code",
   "execution_count": 1,
   "metadata": {},
   "outputs": [
    {
     "name": "stdout",
     "output_type": "stream",
     "text": [
      "Hello Rishav,Good morning\n"
     ]
    }
   ],
   "source": [
    "def greet(name,msg):\n",
    "    print(\"Hello {0},{1}\".format(name,msg))\n",
    "    \n",
    "greet(\"Rishav\",\"Good morning\")"
   ]
  },
  {
   "cell_type": "code",
   "execution_count": 2,
   "metadata": {},
   "outputs": [
    {
     "ename": "TypeError",
     "evalue": "greet() missing 1 required positional argument: 'msg'",
     "output_type": "error",
     "traceback": [
      "\u001b[0;31m---------------------------------------------------------------------------\u001b[0m",
      "\u001b[0;31mTypeError\u001b[0m                                 Traceback (most recent call last)",
      "\u001b[0;32m<ipython-input-2-198d563d5dc2>\u001b[0m in \u001b[0;36m<module>\u001b[0;34m\u001b[0m\n\u001b[0;32m----> 1\u001b[0;31m \u001b[0mgreet\u001b[0m\u001b[0;34m(\u001b[0m\u001b[0;34m\"Rishav\"\u001b[0m\u001b[0;34m)\u001b[0m\u001b[0;34m\u001b[0m\u001b[0;34m\u001b[0m\u001b[0m\n\u001b[0m",
      "\u001b[0;31mTypeError\u001b[0m: greet() missing 1 required positional argument: 'msg'"
     ]
    }
   ],
   "source": [
    "greet(\"Rishav\")"
   ]
  },
  {
   "cell_type": "markdown",
   "metadata": {},
   "source": [
    "## Different Forms of Arguments\n",
    "\n",
    "## 1. Default Arguments\n",
    "\n",
    "we can provide a default to an argument by using the assignment operator(=)"
   ]
  },
  {
   "cell_type": "code",
   "execution_count": 3,
   "metadata": {},
   "outputs": [
    {
     "name": "stdout",
     "output_type": "stream",
     "text": [
      "Hello Rishav,Good morning\n"
     ]
    }
   ],
   "source": [
    "def greet(name,msg=\"Good morning\"):\n",
    "    print(\"Hello {0},{1}\".format(name,msg))\n",
    "\n",
    "greet(\"Rishav\",\"Good morning\")"
   ]
  },
  {
   "cell_type": "code",
   "execution_count": 4,
   "metadata": {},
   "outputs": [
    {
     "name": "stdout",
     "output_type": "stream",
     "text": [
      "Hello Hacke,Good morning\n"
     ]
    }
   ],
   "source": [
    "greet(\"Hacke\")"
   ]
  },
  {
   "cell_type": "markdown",
   "metadata": {},
   "source": [
    "## Keyword Arguments\n",
    "\n",
    "kwargs allows you to pss keyword variable length of argument to a function. You should use ** Kwargs if you want to handle named argument in a function"
   ]
  },
  {
   "cell_type": "code",
   "execution_count": 5,
   "metadata": {},
   "outputs": [
    {
     "name": "stdout",
     "output_type": "stream",
     "text": [
      "Hello risha,good mrng\n"
     ]
    }
   ],
   "source": [
    "def greet(**kwargs):\n",
    "    if kwargs:\n",
    "        print(\"Hello {0},{1}\".format(kwargs['name'],kwargs['msg']))\n",
    "        \n",
    "        \n",
    "greet(name=\"risha\",msg=\"good mrng\")"
   ]
  },
  {
   "cell_type": "markdown",
   "metadata": {},
   "source": [
    "## Arbitary Arguments"
   ]
  },
  {
   "cell_type": "code",
   "execution_count": 8,
   "metadata": {},
   "outputs": [
    {
     "name": "stdout",
     "output_type": "stream",
     "text": [
      "('Rishav', 'Murli', 'nsfsd')\n",
      "Hello, Rishav \n",
      "Hello, Murli \n",
      "Hello, nsfsd \n"
     ]
    }
   ],
   "source": [
    "def greet(*names):\n",
    "    print(names)\n",
    "    \n",
    "    for name in names:\n",
    "        print(\"Hello, {0} \".format(name))\n",
    "        \n",
    "        \n",
    "greet(\"Rishav\",\"Murli\",\"nsfsd\")"
   ]
  },
  {
   "cell_type": "code",
   "execution_count": null,
   "metadata": {},
   "outputs": [],
   "source": []
  }
 ],
 "metadata": {
  "kernelspec": {
   "display_name": "Python 3",
   "language": "python",
   "name": "python3"
  },
  "language_info": {
   "codemirror_mode": {
    "name": "ipython",
    "version": 3
   },
   "file_extension": ".py",
   "mimetype": "text/x-python",
   "name": "python",
   "nbconvert_exporter": "python",
   "pygments_lexer": "ipython3",
   "version": "3.7.2"
  }
 },
 "nbformat": 4,
 "nbformat_minor": 2
}
